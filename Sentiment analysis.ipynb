{
 "cells": [
  {
   "cell_type": "code",
   "execution_count": 1,
   "id": "cdf1c6cf-29b9-46ef-8b07-3bacdd63fe1c",
   "metadata": {},
   "outputs": [
    {
     "name": "stderr",
     "output_type": "stream",
     "text": [
      "2025-08-03 16:08:11.929989: I tensorflow/core/platform/cpu_feature_guard.cc:193] This TensorFlow binary is optimized with oneAPI Deep Neural Network Library (oneDNN) to use the following CPU instructions in performance-critical operations:  AVX2 AVX_VNNI FMA\n",
      "To enable them in other operations, rebuild TensorFlow with the appropriate compiler flags.\n",
      "2025-08-03 16:08:12.065819: I tensorflow/core/util/util.cc:169] oneDNN custom operations are on. You may see slightly different numerical results due to floating-point round-off errors from different computation orders. To turn them off, set the environment variable `TF_ENABLE_ONEDNN_OPTS=0`.\n",
      "2025-08-03 16:08:12.108265: E tensorflow/stream_executor/cuda/cuda_blas.cc:2981] Unable to register cuBLAS factory: Attempting to register factory for plugin cuBLAS when one has already been registered\n",
      "2025-08-03 16:08:13.655438: W tensorflow/stream_executor/platform/default/dso_loader.cc:64] Could not load dynamic library 'libnvinfer.so.7'; dlerror: libnvinfer.so.7: cannot open shared object file: No such file or directory\n",
      "2025-08-03 16:08:13.655665: W tensorflow/stream_executor/platform/default/dso_loader.cc:64] Could not load dynamic library 'libnvinfer_plugin.so.7'; dlerror: libnvinfer_plugin.so.7: cannot open shared object file: No such file or directory\n",
      "2025-08-03 16:08:13.655679: W tensorflow/compiler/tf2tensorrt/utils/py_utils.cc:38] TF-TRT Warning: Cannot dlopen some TensorRT libraries. If you would like to use Nvidia GPU with TensorRT, please make sure the missing libraries mentioned above are installed properly.\n"
     ]
    }
   ],
   "source": [
    "#import libs i'll import them in middle of notebook also as per my requirements\n",
    "import pandas as pd\n",
    "import numpy as np\n",
    "import tensorflow as tf\n",
    "import tensorflow.keras\n",
    "import nltk"
   ]
  },
  {
   "cell_type": "code",
   "execution_count": 2,
   "id": "c3f9f1e9-7039-41d2-919b-114cabfac57b",
   "metadata": {},
   "outputs": [
    {
     "data": {
      "text/plain": [
       "Index(['id', 'dateAdded', 'dateUpdated', 'name', 'asins', 'brand',\n",
       "       'categories', 'primaryCategories', 'imageURLs', 'keys', 'manufacturer',\n",
       "       'manufacturerNumber', 'reviews.date', 'reviews.dateSeen',\n",
       "       'reviews.didPurchase', 'reviews.doRecommend', 'reviews.id',\n",
       "       'reviews.numHelpful', 'reviews.rating', 'reviews.sourceURLs',\n",
       "       'reviews.text', 'reviews.title', 'reviews.username', 'sourceURLs'],\n",
       "      dtype='object')"
      ]
     },
     "execution_count": 2,
     "metadata": {},
     "output_type": "execute_result"
    }
   ],
   "source": [
    "#loading csv\n",
    "df=pd.read_csv(\"Datafiniti_Amazon_Consumer_Reviews_of_Amazon_Products_May19.csv\")\n",
    "df.columns"
   ]
  },
  {
   "cell_type": "code",
   "execution_count": 3,
   "id": "e9f94887-d530-4013-b604-20a8efd69f8b",
   "metadata": {},
   "outputs": [
    {
     "data": {
      "text/plain": [
       "(28332, 24)"
      ]
     },
     "execution_count": 3,
     "metadata": {},
     "output_type": "execute_result"
    }
   ],
   "source": [
    "df.shape"
   ]
  },
  {
   "cell_type": "code",
   "execution_count": 4,
   "id": "9596cb58-90ce-4219-9190-c82392d98f54",
   "metadata": {},
   "outputs": [
    {
     "data": {
      "text/html": [
       "<div>\n",
       "<style scoped>\n",
       "    .dataframe tbody tr th:only-of-type {\n",
       "        vertical-align: middle;\n",
       "    }\n",
       "\n",
       "    .dataframe tbody tr th {\n",
       "        vertical-align: top;\n",
       "    }\n",
       "\n",
       "    .dataframe thead th {\n",
       "        text-align: right;\n",
       "    }\n",
       "</style>\n",
       "<table border=\"1\" class=\"dataframe\">\n",
       "  <thead>\n",
       "    <tr style=\"text-align: right;\">\n",
       "      <th></th>\n",
       "      <th>id</th>\n",
       "      <th>dateAdded</th>\n",
       "      <th>dateUpdated</th>\n",
       "      <th>name</th>\n",
       "      <th>asins</th>\n",
       "      <th>brand</th>\n",
       "      <th>categories</th>\n",
       "      <th>primaryCategories</th>\n",
       "      <th>imageURLs</th>\n",
       "      <th>keys</th>\n",
       "      <th>...</th>\n",
       "      <th>reviews.didPurchase</th>\n",
       "      <th>reviews.doRecommend</th>\n",
       "      <th>reviews.id</th>\n",
       "      <th>reviews.numHelpful</th>\n",
       "      <th>reviews.rating</th>\n",
       "      <th>reviews.sourceURLs</th>\n",
       "      <th>reviews.text</th>\n",
       "      <th>reviews.title</th>\n",
       "      <th>reviews.username</th>\n",
       "      <th>sourceURLs</th>\n",
       "    </tr>\n",
       "  </thead>\n",
       "  <tbody>\n",
       "    <tr>\n",
       "      <th>0</th>\n",
       "      <td>AVpgNzjwLJeJML43Kpxn</td>\n",
       "      <td>2015-10-30T08:59:32Z</td>\n",
       "      <td>2019-04-25T09:08:16Z</td>\n",
       "      <td>AmazonBasics AAA Performance Alkaline Batterie...</td>\n",
       "      <td>B00QWO9P0O,B00LH3DMUO</td>\n",
       "      <td>Amazonbasics</td>\n",
       "      <td>AA,AAA,Health,Electronics,Health &amp; Household,C...</td>\n",
       "      <td>Health &amp; Beauty</td>\n",
       "      <td>https://images-na.ssl-images-amazon.com/images...</td>\n",
       "      <td>amazonbasics/hl002619,amazonbasicsaaaperforman...</td>\n",
       "      <td>...</td>\n",
       "      <td>NaN</td>\n",
       "      <td>NaN</td>\n",
       "      <td>NaN</td>\n",
       "      <td>NaN</td>\n",
       "      <td>3</td>\n",
       "      <td>https://www.amazon.com/product-reviews/B00QWO9...</td>\n",
       "      <td>I order 3 of them and one of the item is bad q...</td>\n",
       "      <td>... 3 of them and one of the item is bad quali...</td>\n",
       "      <td>Byger yang</td>\n",
       "      <td>https://www.barcodable.com/upc/841710106442,ht...</td>\n",
       "    </tr>\n",
       "  </tbody>\n",
       "</table>\n",
       "<p>1 rows × 24 columns</p>\n",
       "</div>"
      ],
      "text/plain": [
       "                     id             dateAdded           dateUpdated  \\\n",
       "0  AVpgNzjwLJeJML43Kpxn  2015-10-30T08:59:32Z  2019-04-25T09:08:16Z   \n",
       "\n",
       "                                                name                  asins  \\\n",
       "0  AmazonBasics AAA Performance Alkaline Batterie...  B00QWO9P0O,B00LH3DMUO   \n",
       "\n",
       "          brand                                         categories  \\\n",
       "0  Amazonbasics  AA,AAA,Health,Electronics,Health & Household,C...   \n",
       "\n",
       "  primaryCategories                                          imageURLs  \\\n",
       "0   Health & Beauty  https://images-na.ssl-images-amazon.com/images...   \n",
       "\n",
       "                                                keys  ... reviews.didPurchase  \\\n",
       "0  amazonbasics/hl002619,amazonbasicsaaaperforman...  ...                 NaN   \n",
       "\n",
       "  reviews.doRecommend reviews.id reviews.numHelpful reviews.rating  \\\n",
       "0                 NaN        NaN                NaN              3   \n",
       "\n",
       "                                  reviews.sourceURLs  \\\n",
       "0  https://www.amazon.com/product-reviews/B00QWO9...   \n",
       "\n",
       "                                        reviews.text  \\\n",
       "0  I order 3 of them and one of the item is bad q...   \n",
       "\n",
       "                                       reviews.title  reviews.username  \\\n",
       "0  ... 3 of them and one of the item is bad quali...        Byger yang   \n",
       "\n",
       "                                          sourceURLs  \n",
       "0  https://www.barcodable.com/upc/841710106442,ht...  \n",
       "\n",
       "[1 rows x 24 columns]"
      ]
     },
     "execution_count": 4,
     "metadata": {},
     "output_type": "execute_result"
    }
   ],
   "source": [
    "df.head(1)"
   ]
  },
  {
   "cell_type": "code",
   "execution_count": 5,
   "id": "61d54f64-546a-46bc-aeee-ac11a20e32ad",
   "metadata": {},
   "outputs": [
    {
     "data": {
      "text/plain": [
       "0"
      ]
     },
     "execution_count": 5,
     "metadata": {},
     "output_type": "execute_result"
    }
   ],
   "source": [
    "#only 2 cols are imp as we have to perform normal sentiment analysis \n",
    "df[\"reviews.rating\"].isna().sum()"
   ]
  },
  {
   "cell_type": "code",
   "execution_count": 6,
   "id": "83105d69-fd04-4566-9573-f32fc7cc2cd2",
   "metadata": {},
   "outputs": [
    {
     "data": {
      "text/plain": [
       "0"
      ]
     },
     "execution_count": 6,
     "metadata": {},
     "output_type": "execute_result"
    }
   ],
   "source": [
    "df['reviews.text'].isna().sum()"
   ]
  },
  {
   "cell_type": "code",
   "execution_count": 7,
   "id": "8c7439c4-9a0b-43fb-8b90-62946ff29f1d",
   "metadata": {},
   "outputs": [],
   "source": [
    "df=df[['reviews.rating','reviews.text']]"
   ]
  },
  {
   "cell_type": "code",
   "execution_count": 8,
   "id": "52d7ae3b-63d8-40cf-8adf-8cb43004e017",
   "metadata": {},
   "outputs": [
    {
     "data": {
      "text/plain": [
       "reviews.rating    0\n",
       "reviews.text      0\n",
       "dtype: int64"
      ]
     },
     "execution_count": 8,
     "metadata": {},
     "output_type": "execute_result"
    }
   ],
   "source": [
    "df.isna().sum()"
   ]
  },
  {
   "cell_type": "code",
   "execution_count": 9,
   "id": "a32b14fb-e20b-4843-9d0d-f731c19974fa",
   "metadata": {},
   "outputs": [],
   "source": [
    "#dropping all the cols except these 2\n",
    "df=df.dropna()"
   ]
  },
  {
   "cell_type": "code",
   "execution_count": 10,
   "id": "9a26333d-e03c-4126-9581-41ae5c612f80",
   "metadata": {},
   "outputs": [
    {
     "data": {
      "text/plain": [
       "reviews.rating    0\n",
       "reviews.text      0\n",
       "dtype: int64"
      ]
     },
     "execution_count": 10,
     "metadata": {},
     "output_type": "execute_result"
    }
   ],
   "source": [
    "df.isna().sum()"
   ]
  },
  {
   "cell_type": "code",
   "execution_count": 11,
   "id": "51fac008-e2d0-41c1-8f9e-a9654dec0d42",
   "metadata": {},
   "outputs": [],
   "source": [
    "text=df['reviews.text']"
   ]
  },
  {
   "cell_type": "code",
   "execution_count": 12,
   "id": "2c88b3bf-93ed-4df9-8311-c1f955a241b7",
   "metadata": {},
   "outputs": [],
   "source": [
    "#now nlp part starts\n",
    "import re\n",
    "import string \n",
    "\n",
    "def clean_text(text):\n",
    "    text = text.lower()  # lowercase\n",
    "    text = re.sub(r'[^a-zA-Z\\s]', '', text)  # remove digits\n",
    "    text = text.translate(str.maketrans('', '', string.punctuation))  # remove punctuation\n",
    "    text = text.strip()  # remove leading/trailing whitespace\n",
    "    return text\n"
   ]
  },
  {
   "cell_type": "code",
   "execution_count": 13,
   "id": "3f0af7a4-cdde-4197-80ff-ced5c59a5405",
   "metadata": {},
   "outputs": [
    {
     "data": {
      "text/plain": [
       "0        i order  of them and one of the item is bad qu...\n",
       "1        bulk is always the less expensive way to go fo...\n",
       "2        well they are not duracell but for the price i...\n",
       "3        seem to work as well as name brand batteries a...\n",
       "4        these batteries are very long lasting the pric...\n",
       "                               ...                        \n",
       "28327    i got  of these for my  yr old twins my  yr ol...\n",
       "28328    i bought this for my niece for a christmas gif...\n",
       "28329    very nice for light internet browsing keeping ...\n",
       "28330    this tablet does absolutely everything i want ...\n",
       "28331    at ninety dollars the expectionations are low ...\n",
       "Name: reviews.text, Length: 28332, dtype: object"
      ]
     },
     "execution_count": 13,
     "metadata": {},
     "output_type": "execute_result"
    }
   ],
   "source": [
    "text=text.apply(clean_text)\n",
    "text"
   ]
  },
  {
   "cell_type": "code",
   "execution_count": 14,
   "id": "8eee78b9-ea95-417f-9036-564773969d7a",
   "metadata": {},
   "outputs": [],
   "source": [
    "from sklearn.feature_extraction.text import TfidfVectorizer\n",
    "vect=TfidfVectorizer(stop_words='english',max_features=5000)"
   ]
  },
  {
   "cell_type": "code",
   "execution_count": 15,
   "id": "a975eba0-0c42-4470-ba23-586851b6e2ba",
   "metadata": {},
   "outputs": [],
   "source": [
    "x=vect.fit_transform(text)"
   ]
  },
  {
   "cell_type": "code",
   "execution_count": 16,
   "id": "3721c753-8589-4f56-a6ba-e33932afed58",
   "metadata": {},
   "outputs": [],
   "source": [
    "def get_sentiment(rating):\n",
    "    if rating >= 4:\n",
    "        return 'Positive'\n",
    "    elif rating == 3:\n",
    "        return 'Neutral'\n",
    "    else:\n",
    "        return 'Negative'\n",
    "\n",
    "df['sentiment'] = df['reviews.rating'].apply(get_sentiment)"
   ]
  },
  {
   "cell_type": "code",
   "execution_count": 17,
   "id": "cb089d7c-5221-4f7c-8c27-48596c006b1c",
   "metadata": {},
   "outputs": [],
   "source": [
    "df['sentiment']=df['sentiment'].map({'Positive':2,'Neutral':1,'Negative':0})"
   ]
  },
  {
   "cell_type": "code",
   "execution_count": 18,
   "id": "6d893e14-5d32-40de-9b48-ec6c3d0abc41",
   "metadata": {},
   "outputs": [],
   "source": [
    "y=df['sentiment']"
   ]
  },
  {
   "cell_type": "code",
   "execution_count": 19,
   "id": "e3ec59d2-012a-4cec-b29e-bce2aec0c3c6",
   "metadata": {},
   "outputs": [],
   "source": [
    "from imblearn.over_sampling import SMOTE\n",
    "sm=SMOTE()\n",
    "x_new , y_new =sm.fit_resample(x,y)"
   ]
  },
  {
   "cell_type": "code",
   "execution_count": 20,
   "id": "9700ebee-ea7d-4801-8f4c-0f9ef04455b4",
   "metadata": {},
   "outputs": [
    {
     "data": {
      "text/plain": [
       "76635"
      ]
     },
     "execution_count": 20,
     "metadata": {},
     "output_type": "execute_result"
    }
   ],
   "source": [
    "x_new.shape[0]"
   ]
  },
  {
   "cell_type": "code",
   "execution_count": 21,
   "id": "44c15586-c413-43e6-90fb-bf6a007a099f",
   "metadata": {},
   "outputs": [
    {
     "data": {
      "text/plain": [
       "76635"
      ]
     },
     "execution_count": 21,
     "metadata": {},
     "output_type": "execute_result"
    }
   ],
   "source": [
    "y_new.shape[0]"
   ]
  },
  {
   "cell_type": "code",
   "execution_count": 22,
   "id": "5dd9c40a-0251-4f52-a18e-3f2a52166b07",
   "metadata": {},
   "outputs": [
    {
     "data": {
      "text/html": [
       "<div>\n",
       "<style scoped>\n",
       "    .dataframe tbody tr th:only-of-type {\n",
       "        vertical-align: middle;\n",
       "    }\n",
       "\n",
       "    .dataframe tbody tr th {\n",
       "        vertical-align: top;\n",
       "    }\n",
       "\n",
       "    .dataframe thead th {\n",
       "        text-align: right;\n",
       "    }\n",
       "</style>\n",
       "<table border=\"1\" class=\"dataframe\">\n",
       "  <thead>\n",
       "    <tr style=\"text-align: right;\">\n",
       "      <th></th>\n",
       "      <th>reviews.rating</th>\n",
       "      <th>reviews.text</th>\n",
       "      <th>sentiment</th>\n",
       "    </tr>\n",
       "  </thead>\n",
       "  <tbody>\n",
       "    <tr>\n",
       "      <th>0</th>\n",
       "      <td>3</td>\n",
       "      <td>I order 3 of them and one of the item is bad q...</td>\n",
       "      <td>1</td>\n",
       "    </tr>\n",
       "    <tr>\n",
       "      <th>1</th>\n",
       "      <td>4</td>\n",
       "      <td>Bulk is always the less expensive way to go fo...</td>\n",
       "      <td>2</td>\n",
       "    </tr>\n",
       "    <tr>\n",
       "      <th>2</th>\n",
       "      <td>5</td>\n",
       "      <td>Well they are not Duracell but for the price i...</td>\n",
       "      <td>2</td>\n",
       "    </tr>\n",
       "    <tr>\n",
       "      <th>3</th>\n",
       "      <td>5</td>\n",
       "      <td>Seem to work as well as name brand batteries a...</td>\n",
       "      <td>2</td>\n",
       "    </tr>\n",
       "    <tr>\n",
       "      <th>4</th>\n",
       "      <td>5</td>\n",
       "      <td>These batteries are very long lasting the pric...</td>\n",
       "      <td>2</td>\n",
       "    </tr>\n",
       "    <tr>\n",
       "      <th>...</th>\n",
       "      <td>...</td>\n",
       "      <td>...</td>\n",
       "      <td>...</td>\n",
       "    </tr>\n",
       "    <tr>\n",
       "      <th>28327</th>\n",
       "      <td>5</td>\n",
       "      <td>I got 2 of these for my 8 yr old twins. My 11 ...</td>\n",
       "      <td>2</td>\n",
       "    </tr>\n",
       "    <tr>\n",
       "      <th>28328</th>\n",
       "      <td>4</td>\n",
       "      <td>I bought this for my niece for a Christmas gif...</td>\n",
       "      <td>2</td>\n",
       "    </tr>\n",
       "    <tr>\n",
       "      <th>28329</th>\n",
       "      <td>5</td>\n",
       "      <td>Very nice for light internet browsing, keeping...</td>\n",
       "      <td>2</td>\n",
       "    </tr>\n",
       "    <tr>\n",
       "      <th>28330</th>\n",
       "      <td>5</td>\n",
       "      <td>This Tablet does absolutely everything I want!...</td>\n",
       "      <td>2</td>\n",
       "    </tr>\n",
       "    <tr>\n",
       "      <th>28331</th>\n",
       "      <td>4</td>\n",
       "      <td>At ninety dollars, the expectionations are low...</td>\n",
       "      <td>2</td>\n",
       "    </tr>\n",
       "  </tbody>\n",
       "</table>\n",
       "<p>28332 rows × 3 columns</p>\n",
       "</div>"
      ],
      "text/plain": [
       "       reviews.rating                                       reviews.text  \\\n",
       "0                   3  I order 3 of them and one of the item is bad q...   \n",
       "1                   4  Bulk is always the less expensive way to go fo...   \n",
       "2                   5  Well they are not Duracell but for the price i...   \n",
       "3                   5  Seem to work as well as name brand batteries a...   \n",
       "4                   5  These batteries are very long lasting the pric...   \n",
       "...               ...                                                ...   \n",
       "28327               5  I got 2 of these for my 8 yr old twins. My 11 ...   \n",
       "28328               4  I bought this for my niece for a Christmas gif...   \n",
       "28329               5  Very nice for light internet browsing, keeping...   \n",
       "28330               5  This Tablet does absolutely everything I want!...   \n",
       "28331               4  At ninety dollars, the expectionations are low...   \n",
       "\n",
       "       sentiment  \n",
       "0              1  \n",
       "1              2  \n",
       "2              2  \n",
       "3              2  \n",
       "4              2  \n",
       "...          ...  \n",
       "28327          2  \n",
       "28328          2  \n",
       "28329          2  \n",
       "28330          2  \n",
       "28331          2  \n",
       "\n",
       "[28332 rows x 3 columns]"
      ]
     },
     "execution_count": 22,
     "metadata": {},
     "output_type": "execute_result"
    }
   ],
   "source": [
    "df"
   ]
  },
  {
   "cell_type": "code",
   "execution_count": 23,
   "id": "cd7c212d-3079-46ea-969a-9880c9e75705",
   "metadata": {},
   "outputs": [],
   "source": [
    "from sklearn.model_selection import train_test_split\n",
    "x_train,x_test,y_train,y_test=train_test_split(x_new,y_new,test_size=0.2, random_state=42, stratify=y_new)"
   ]
  },
  {
   "cell_type": "code",
   "execution_count": 44,
   "id": "7e3b5764-ba8b-4bc0-8dec-3ef364228e0c",
   "metadata": {},
   "outputs": [],
   "source": [
    "from sklearn.linear_model import LogisticRegression\n",
    "modellog = LogisticRegression(max_iter=1000, class_weight='balanced')"
   ]
  },
  {
   "cell_type": "code",
   "execution_count": 45,
   "id": "48de9c8e-2b8b-4aa1-bc94-330eda064175",
   "metadata": {},
   "outputs": [
    {
     "data": {
      "text/html": [
       "<style>#sk-container-id-2 {color: black;}#sk-container-id-2 pre{padding: 0;}#sk-container-id-2 div.sk-toggleable {background-color: white;}#sk-container-id-2 label.sk-toggleable__label {cursor: pointer;display: block;width: 100%;margin-bottom: 0;padding: 0.3em;box-sizing: border-box;text-align: center;}#sk-container-id-2 label.sk-toggleable__label-arrow:before {content: \"▸\";float: left;margin-right: 0.25em;color: #696969;}#sk-container-id-2 label.sk-toggleable__label-arrow:hover:before {color: black;}#sk-container-id-2 div.sk-estimator:hover label.sk-toggleable__label-arrow:before {color: black;}#sk-container-id-2 div.sk-toggleable__content {max-height: 0;max-width: 0;overflow: hidden;text-align: left;background-color: #f0f8ff;}#sk-container-id-2 div.sk-toggleable__content pre {margin: 0.2em;color: black;border-radius: 0.25em;background-color: #f0f8ff;}#sk-container-id-2 input.sk-toggleable__control:checked~div.sk-toggleable__content {max-height: 200px;max-width: 100%;overflow: auto;}#sk-container-id-2 input.sk-toggleable__control:checked~label.sk-toggleable__label-arrow:before {content: \"▾\";}#sk-container-id-2 div.sk-estimator input.sk-toggleable__control:checked~label.sk-toggleable__label {background-color: #d4ebff;}#sk-container-id-2 div.sk-label input.sk-toggleable__control:checked~label.sk-toggleable__label {background-color: #d4ebff;}#sk-container-id-2 input.sk-hidden--visually {border: 0;clip: rect(1px 1px 1px 1px);clip: rect(1px, 1px, 1px, 1px);height: 1px;margin: -1px;overflow: hidden;padding: 0;position: absolute;width: 1px;}#sk-container-id-2 div.sk-estimator {font-family: monospace;background-color: #f0f8ff;border: 1px dotted black;border-radius: 0.25em;box-sizing: border-box;margin-bottom: 0.5em;}#sk-container-id-2 div.sk-estimator:hover {background-color: #d4ebff;}#sk-container-id-2 div.sk-parallel-item::after {content: \"\";width: 100%;border-bottom: 1px solid gray;flex-grow: 1;}#sk-container-id-2 div.sk-label:hover label.sk-toggleable__label {background-color: #d4ebff;}#sk-container-id-2 div.sk-serial::before {content: \"\";position: absolute;border-left: 1px solid gray;box-sizing: border-box;top: 0;bottom: 0;left: 50%;z-index: 0;}#sk-container-id-2 div.sk-serial {display: flex;flex-direction: column;align-items: center;background-color: white;padding-right: 0.2em;padding-left: 0.2em;position: relative;}#sk-container-id-2 div.sk-item {position: relative;z-index: 1;}#sk-container-id-2 div.sk-parallel {display: flex;align-items: stretch;justify-content: center;background-color: white;position: relative;}#sk-container-id-2 div.sk-item::before, #sk-container-id-2 div.sk-parallel-item::before {content: \"\";position: absolute;border-left: 1px solid gray;box-sizing: border-box;top: 0;bottom: 0;left: 50%;z-index: -1;}#sk-container-id-2 div.sk-parallel-item {display: flex;flex-direction: column;z-index: 1;position: relative;background-color: white;}#sk-container-id-2 div.sk-parallel-item:first-child::after {align-self: flex-end;width: 50%;}#sk-container-id-2 div.sk-parallel-item:last-child::after {align-self: flex-start;width: 50%;}#sk-container-id-2 div.sk-parallel-item:only-child::after {width: 0;}#sk-container-id-2 div.sk-dashed-wrapped {border: 1px dashed gray;margin: 0 0.4em 0.5em 0.4em;box-sizing: border-box;padding-bottom: 0.4em;background-color: white;}#sk-container-id-2 div.sk-label label {font-family: monospace;font-weight: bold;display: inline-block;line-height: 1.2em;}#sk-container-id-2 div.sk-label-container {text-align: center;}#sk-container-id-2 div.sk-container {/* jupyter's `normalize.less` sets `[hidden] { display: none; }` but bootstrap.min.css set `[hidden] { display: none !important; }` so we also need the `!important` here to be able to override the default hidden behavior on the sphinx rendered scikit-learn.org. See: https://github.com/scikit-learn/scikit-learn/issues/21755 */display: inline-block !important;position: relative;}#sk-container-id-2 div.sk-text-repr-fallback {display: none;}</style><div id=\"sk-container-id-2\" class=\"sk-top-container\"><div class=\"sk-text-repr-fallback\"><pre>LogisticRegression(class_weight=&#x27;balanced&#x27;, max_iter=1000)</pre><b>In a Jupyter environment, please rerun this cell to show the HTML representation or trust the notebook. <br />On GitHub, the HTML representation is unable to render, please try loading this page with nbviewer.org.</b></div><div class=\"sk-container\" hidden><div class=\"sk-item\"><div class=\"sk-estimator sk-toggleable\"><input class=\"sk-toggleable__control sk-hidden--visually\" id=\"sk-estimator-id-2\" type=\"checkbox\" checked><label for=\"sk-estimator-id-2\" class=\"sk-toggleable__label sk-toggleable__label-arrow\">LogisticRegression</label><div class=\"sk-toggleable__content\"><pre>LogisticRegression(class_weight=&#x27;balanced&#x27;, max_iter=1000)</pre></div></div></div></div></div>"
      ],
      "text/plain": [
       "LogisticRegression(class_weight='balanced', max_iter=1000)"
      ]
     },
     "execution_count": 45,
     "metadata": {},
     "output_type": "execute_result"
    }
   ],
   "source": [
    "modellog.fit(x_train,y_train)"
   ]
  },
  {
   "cell_type": "code",
   "execution_count": 46,
   "id": "15d93042-7f11-4ac8-bd26-026ca1739fd1",
   "metadata": {},
   "outputs": [],
   "source": [
    "y_pred=modellog.predict(x_test)"
   ]
  },
  {
   "cell_type": "code",
   "execution_count": 47,
   "id": "9230d4ef-c3ec-4886-ab5e-2c2df46ea4d4",
   "metadata": {},
   "outputs": [
    {
     "data": {
      "text/plain": [
       "0.8874535134077118"
      ]
     },
     "execution_count": 47,
     "metadata": {},
     "output_type": "execute_result"
    }
   ],
   "source": [
    "from sklearn.metrics import accuracy_score, classification_report\n",
    "accuracy=accuracy_score(y_test,y_pred)\n",
    "accuracy"
   ]
  },
  {
   "cell_type": "code",
   "execution_count": 28,
   "id": "2c50f84c-5b3f-4b86-baa3-a02edd64e6ae",
   "metadata": {},
   "outputs": [
    {
     "name": "stdout",
     "output_type": "stream",
     "text": [
      "\n",
      "               precision    recall  f1-score   support\n",
      "\n",
      "           0       0.90      0.89      0.90      5109\n",
      "           1       0.83      0.90      0.87      5109\n",
      "           2       0.93      0.87      0.90      5109\n",
      "\n",
      "    accuracy                           0.89     15327\n",
      "   macro avg       0.89      0.89      0.89     15327\n",
      "weighted avg       0.89      0.89      0.89     15327\n",
      "\n"
     ]
    }
   ],
   "source": [
    "print(\"\\n\",classification_report(y_test,y_pred))"
   ]
  },
  {
   "cell_type": "code",
   "execution_count": 29,
   "id": "e2953769-f0ee-4b19-8e32-db3632f963be",
   "metadata": {},
   "outputs": [
    {
     "data": {
      "text/plain": [
       "sentiment\n",
       "2    25545\n",
       "0     1581\n",
       "1     1206\n",
       "Name: count, dtype: int64"
      ]
     },
     "execution_count": 29,
     "metadata": {},
     "output_type": "execute_result"
    }
   ],
   "source": [
    "df['sentiment'].value_counts()"
   ]
  },
  {
   "cell_type": "code",
   "execution_count": 48,
   "id": "487092ad-f139-42a9-b6f9-e61fe8deb873",
   "metadata": {},
   "outputs": [
    {
     "name": "stdout",
     "output_type": "stream",
     "text": [
      "[2]\n"
     ]
    }
   ],
   "source": [
    "def preprocess(text):\n",
    "    text = text.lower()\n",
    "    text = text.translate(str.maketrans('', '', string.punctuation))\n",
    "    return text\n",
    "\n",
    "# Example input\n",
    "new_text = \"This product is absolutely wonderful!\"\n",
    "clean_text = preprocess(new_text)\n",
    "\n",
    "# Vectorize like training\n",
    "vec_text = vect.transform([clean_text])\n",
    "\n",
    "# Predict\n",
    "prediction = modellog.predict(vec_text)\n",
    "print(prediction)  # e.g., ['Positive']\n",
    "\n"
   ]
  },
  {
   "cell_type": "code",
   "execution_count": 49,
   "id": "8df1b549-c311-4f0f-b5f8-29abdc3654d6",
   "metadata": {},
   "outputs": [
    {
     "name": "stdout",
     "output_type": "stream",
     "text": [
      "Train Accuracy: 0.9013831800091342\n",
      "Test Accuracy: 0.8874535134077118\n"
     ]
    }
   ],
   "source": [
    "y_train_pred = modellog.predict(x_train)\n",
    "y_test_pred = modellog.predict(x_test)\n",
    "\n",
    "print(\"Train Accuracy:\", accuracy_score(y_train, y_train_pred))\n",
    "print(\"Test Accuracy:\", accuracy_score(y_test, y_test_pred))"
   ]
  },
  {
   "cell_type": "code",
   "execution_count": 50,
   "id": "f542ff9e-a4fe-4534-b1d4-020002172d30",
   "metadata": {},
   "outputs": [],
   "source": [
    "def predict_sentiment(text):\n",
    "    text_cleaned = preprocess(text)\n",
    "    vector = vect.transform([text_cleaned])\n",
    "    prediction = modellog.predict(vector)\n",
    "    return prediction[0]"
   ]
  },
  {
   "cell_type": "code",
   "execution_count": 33,
   "id": "37e8f0a3-41b1-4c80-9ca6-af5c9e40c847",
   "metadata": {},
   "outputs": [
    {
     "name": "stdin",
     "output_type": "stream",
     "text": [
      "Enter your text: bad product\n"
     ]
    },
    {
     "name": "stdout",
     "output_type": "stream",
     "text": [
      "Negative\n"
     ]
    }
   ],
   "source": [
    "t=input(\"Enter your text:\")\n",
    "if predict_sentiment(t)==2:\n",
    "    print(\"Positive\")\n",
    "elif predict_sentiment(t)==3:\n",
    "    print(\"Neutral\")\n",
    "else:\n",
    "    print(\"Negative\")"
   ]
  },
  {
   "cell_type": "code",
   "execution_count": 34,
   "id": "6a694ad4-bf7d-4bef-ad5b-7251fac46c27",
   "metadata": {},
   "outputs": [
    {
     "name": "stderr",
     "output_type": "stream",
     "text": [
      "/home/arpit/miniconda3/envs/tf-gpu/lib/python3.10/site-packages/tqdm/auto.py:21: TqdmWarning: IProgress not found. Please update jupyter and ipywidgets. See https://ipywidgets.readthedocs.io/en/stable/user_install.html\n",
      "  from .autonotebook import tqdm as notebook_tqdm\n"
     ]
    },
    {
     "name": "stdout",
     "output_type": "stream",
     "text": [
      "                                             article  \\\n",
      "0  LONDON, England (Reuters) -- Harry Potter star...   \n",
      "1  Editor's note: In our Behind the Scenes series...   \n",
      "2  MINNEAPOLIS, Minnesota (CNN) -- Drivers who we...   \n",
      "3  WASHINGTON (CNN) -- Doctors removed five small...   \n",
      "4  (CNN)  -- The National Football League has ind...   \n",
      "\n",
      "                                          highlights  \\\n",
      "0  Harry Potter star Daniel Radcliffe gets £20M f...   \n",
      "1  Mentally ill inmates in Miami are housed on th...   \n",
      "2  NEW: \"I thought I was going to die,\" driver sa...   \n",
      "3  Five small polyps found during procedure; \"non...   \n",
      "4  NEW: NFL chief, Atlanta Falcons owner critical...   \n",
      "\n",
      "                                         id  \n",
      "0  42c027e4ff9730fbb3de84c1af0d2c506e41c3e4  \n",
      "1  ee8871b15c50d0db17b0179a6d2beab35065f1e9  \n",
      "2  06352019a19ae31e527f37f7571c6dd7f0c5da37  \n",
      "3  24521a2abb2e1f5e34e6824e0f9e56904a2b0e88  \n",
      "4  7fe70cc8b12fab2d0a258fababf7d9c6b5e1262a  \n"
     ]
    }
   ],
   "source": [
    "from datasets import load_dataset\n",
    "dataset = load_dataset(\"cnn_dailymail\", '3.0.0')\n",
    "sample_data = dataset[\"train\"].select(range(1000))  \n",
    "\n",
    "# Convert to pandas DataFrame\n",
    "df = sample_data.to_pandas()\n",
    "\n",
    "# Preview\n",
    "print(df.head())"
   ]
  },
  {
   "cell_type": "code",
   "execution_count": 35,
   "id": "77fe029b-fd55-4710-b12b-9df6029aa558",
   "metadata": {},
   "outputs": [
    {
     "name": "stderr",
     "output_type": "stream",
     "text": [
      "You are using the default legacy behaviour of the <class 'transformers.models.t5.tokenization_t5.T5Tokenizer'>. This is expected, and simply means that the `legacy` (previous) behavior will be used so nothing changes for you. If you want to use the new behaviour, set `legacy=False`. This should only be set if you understand what it means, and thoroughly read the reason why this was added as explained in https://github.com/huggingface/transformers/pull/24565\n"
     ]
    },
    {
     "name": "stdout",
     "output_type": "stream",
     "text": [
      "Original:\n",
      " LONDON, England (Reuters) -- Harry Potter star Daniel Radcliffe gains access to a reported £20 million ($41.1 million) fortune as he turns 18 on Monday, but he insists the money won't cast a spell on him. Daniel Radcliffe as Harry Potter in \"Harry Potter and the Order of the Phoenix\" To the disappointment of gossip columnists around the world, the young actor says he has no plans to fritter his cash away on fast cars, drink and celebrity parties. \"I don't plan to be one of those people who, as s\n",
      "\n",
      "T5 Summary:\n",
      " the young actor says he has no plans to fritter his cash away on fast cars, drink and celebrity parties. he will be able to gamble in a casino, buy a drink in a pub or see the horror film \"Hostel: Part II\" despite his growing fame, he says he is keeping his feet firmly on the ground.\n"
     ]
    }
   ],
   "source": [
    "from transformers import T5Tokenizer, T5ForConditionalGeneration\n",
    "\n",
    "\n",
    "tokenizer = T5Tokenizer.from_pretrained(\"t5-small\")\n",
    "model = T5ForConditionalGeneration.from_pretrained(\"t5-small\")\n",
    "\n",
    "def summarize(text):\n",
    "    input_text = \"summarize: \" + text\n",
    "    inputs = tokenizer.encode(input_text, return_tensors=\"pt\", max_length=512, truncation=True)\n",
    "    outputs = model.generate(inputs, max_length=150, min_length=30, length_penalty=2.0, num_beams=4, early_stopping=True)\n",
    "    return tokenizer.decode(outputs[0], skip_special_tokens=True)\n",
    "print(\"Original:\\n\", df['article'][0][:500]) \n",
    "print(\"\\nT5 Summary:\\n\", summarize(df['article'][0]))\n"
   ]
  },
  {
   "cell_type": "code",
   "execution_count": 36,
   "id": "d5e70916-142a-4485-b109-9da80e12a294",
   "metadata": {
    "scrolled": true
   },
   "outputs": [
    {
     "name": "stdout",
     "output_type": "stream",
     "text": [
      "\n",
      "📰 Original Article 1:\n",
      " LONDON, England (Reuters) -- Harry Potter star Daniel Radcliffe gains access to a reported £20 million ($41.1 million) fortune as he turns 18 on Monday, but he insists the money won't cast a spell on him. Daniel Radcliffe as Harry Potter in \"Harry Potter and the Order of the Phoenix\" To the disappointment of gossip columnists around the world, the young actor says he has no plans to fritter his ca ...\n",
      "\n",
      "📝 T5 Summary:\n",
      " the young actor says he has no plans to fritter his cash away on fast cars, drink and celebrity parties. he will be able to gamble in a casino, buy a drink in a pub or see the horror film \"Hostel: Part II\" despite his growing fame, he says he is keeping his feet firmly on the ground.\n",
      "====================================================================================================\n",
      "\n",
      "📰 Original Article 2:\n",
      " Editor's note: In our Behind the Scenes series, CNN correspondents share their experiences in covering news and analyze the stories behind the events. Here, Soledad O'Brien takes users inside a jail where many of the inmates are mentally ill. An inmate housed on the \"forgotten floor,\" where many mentally ill inmates are housed in Miami before trial. MIAMI, Florida (CNN) -- The ninth floor of the M ...\n",
      "\n",
      "📝 T5 Summary:\n",
      " inmates with most severe mental illnesses are incarcerated until they're ready to appear in court. judge says arrests often result from confrontations with police. prisoners are wearing sleeveless robes, wearing sleeveless robes.\n",
      "====================================================================================================\n",
      "\n",
      "📰 Original Article 3:\n",
      " MINNEAPOLIS, Minnesota (CNN) -- Drivers who were on the Minneapolis bridge when it collapsed told harrowing tales of survival. \"The whole bridge from one side of the Mississippi to the other just completely gave way, fell all the way down,\" survivor Gary Babineau told CNN. \"I probably had a 30-, 35-foot free fall. And there's cars in the water, there's cars on fire. The whole bridge is down.\" He s ...\n",
      "\n",
      "📝 T5 Summary:\n",
      " survivor: \"i probably had a 30-, 35-foot free fall. And there's cars in the water, there's cars on fire. the whole bridge is down\" a doctor jumped into his car and rushed to the scene in 15 minutes. 55 people into ambulances in less than two hours.\n",
      "====================================================================================================\n",
      "\n",
      "📰 Original Article 4:\n",
      " WASHINGTON (CNN) -- Doctors removed five small polyps from President Bush's colon on Saturday, and \"none appeared worrisome,\" a White House spokesman said. The polyps were removed and sent to the National Naval Medical Center in Bethesda, Maryland, for routine microscopic examination, spokesman Scott Stanzel said. Results are expected in two to three days. All were small, less than a centimeter [h ...\n",
      "\n",
      "📝 T5 Summary:\n",
      " the polyps were removed and sent to the national Naval Medical Center in Bethesda, Maryland. results are expected in two to three days. vice president Dick Cheney assumed presidential power at 9:21 a.m.\n",
      "====================================================================================================\n",
      "\n",
      "📰 Original Article 5:\n",
      " (CNN)  -- The National Football League has indefinitely suspended Atlanta Falcons quarterback Michael Vick without pay, officials with the league said Friday. NFL star Michael Vick is set to appear in court Monday. A judge will have the final say on a plea deal. Earlier, Vick admitted to participating in a dogfighting ring as part of a plea agreement with federal prosecutors in Virginia. \"Your adm ...\n",
      "\n",
      "📝 T5 Summary:\n",
      " new: \"your admitted conduct was not only illegal, but also cruel and reprehensible,\" nfl commissioner says. new: \"your admitted conduct was not only illegal, but also cruel and reprehensible,\" nfl commissioner says. new: the suspension makes a strong statement that conduct which tarnishes the good reputation of the NFL will not be tolerated. new: a judge will have the final say on a plea deal.\n",
      "====================================================================================================\n",
      "\n",
      "📰 Original Article 6:\n",
      " BAGHDAD, Iraq (CNN) -- Dressed in a Superman shirt, 5-year-old Youssif held his sister's hand Friday, seemingly unaware that millions of people across the world have been touched by his story. Nearby, his parents talked about the new future and hope they have for their boy -- and the potential for recovery from his severe burns. Youssif holds his sister's hand Friday. He's wearing a facial mask of ...\n",
      "\n",
      "📝 T5 Summary:\n",
      " new: youssif's father says he didn't know what to do with himself. new: \"we knew there was kindness out there,\" he says. new: \"we knew there was kindness out there,\" he says. new: \"we knew there was kindness out there,\" he says.\n",
      "====================================================================================================\n",
      "\n",
      "📰 Original Article 7:\n",
      " BAGHDAD, Iraq (CNN) -- The women are too afraid and ashamed to show their faces or have their real names used. They have been driven to sell their bodies to put food on the table for their children -- for as little as $8 a day. Suha, 37, is a mother of three. She says her husband thinks she is cleaning houses when she leaves home. \"People shouldn't criticize women, or talk badly about them,\" says  ...\n",
      "\n",
      "📝 T5 Summary:\n",
      " women are too afraid and ashamed to show their faces or have real names used. they have been driven to sell their bodies to put food on the table for as little as $8 a day. \"people shouldn't criticize women, or talk badly about them,\" says 37-year-old.\n",
      "====================================================================================================\n",
      "\n",
      "📰 Original Article 8:\n",
      " BOGOTA, Colombia (CNN) -- A key rebel commander and fugitive from a U.S. drug trafficking indictment was killed over the weekend in an air attack on a guerrilla encampment, the Colombian military said Monday. Alleged cocaine trafficker and FARC rebel Tomas Medina Caracas in an Interpol photo. Tomas Medina Caracas, known popularly as \"El Negro Acacio,\" was a member of the high command of the Fuerza ...\n",
      "\n",
      "📝 T5 Summary:\n",
      " fugitive from drug trafficking indictment killed in air attack on guerrilla encampment. he was a member of the high command of the Fuerzas Armadas Revolucionarias de Colombia. he was charged with conspiracy to import cocaine into the united states.\n",
      "====================================================================================================\n",
      "\n",
      "📰 Original Article 9:\n",
      " WASHINGTON (CNN) -- White House press secretary Tony Snow, who is undergoing treatment for cancer, will step down from his post September 14 and be replaced by deputy press secretary Dana Perino, the White House announced Friday. White House press secretary Tony Snow will step down from his post on September 14. President Bush told reporters Friday that he will \"sadly accept\" Snow's resignation. F ...\n",
      "\n",
      "📝 T5 Summary:\n",
      " new: president bush says he will \"sadly accept\" snow's resignation. new: \"i love you, and I wish you all the best,\" he says. new: \"this job has really been a dream for me, a blast,\" he says. new: president bush says he will \"sadly accept\" snow's resignation.\n",
      "====================================================================================================\n",
      "\n",
      "📰 Original Article 10:\n",
      " (CNN) -- Police and FBI agents are investigating the discovery of an empty rocket launcher tube on the front lawn of a Jersey City, New Jersey, home, FBI spokesman Sean Quinn said. Niranjan Desai discovered the 20-year-old AT4 anti-tank rocket launcher tube, a one-time-use device, lying on her lawn Friday morning, police said. The launcher has been turned over to U.S. Army officials at the 754th O ...\n",
      "\n",
      "📝 T5 Summary:\n",
      " the 20-year-old AT4 anti-tank rocket launcher tube was found on her lawn. the device has been turned over to the 754th Ordnance Company. the launcher \"is no longer operable and not considered to be a hazard to public safety,\" police say.\n",
      "====================================================================================================\n"
     ]
    }
   ],
   "source": [
    "for i in range(10):\n",
    "    print(f\"\\n📰 Original Article {i+1}:\\n\", df['article'][i][:400], \"...\")\n",
    "    print(\"\\n📝 T5 Summary:\\n\", summarize(df['article'][i]))\n",
    "    print(\"=\"*100)\n"
   ]
  },
  {
   "cell_type": "code",
   "execution_count": 37,
   "id": "b2ced3b7-8d47-405e-a662-ae0e9062a807",
   "metadata": {
    "scrolled": true
   },
   "outputs": [
    {
     "name": "stdout",
     "output_type": "stream",
     "text": [
      "                                             article  \\\n",
      "0  LONDON, England (Reuters) -- Harry Potter star...   \n",
      "1  Editor's note: In our Behind the Scenes series...   \n",
      "2  MINNEAPOLIS, Minnesota (CNN) -- Drivers who we...   \n",
      "3  WASHINGTON (CNN) -- Doctors removed five small...   \n",
      "4  (CNN)  -- The National Football League has ind...   \n",
      "\n",
      "                                          highlights  \\\n",
      "0  Harry Potter star Daniel Radcliffe gets £20M f...   \n",
      "1  Mentally ill inmates in Miami are housed on th...   \n",
      "2  NEW: \"I thought I was going to die,\" driver sa...   \n",
      "3  Five small polyps found during procedure; \"non...   \n",
      "4  NEW: NFL chief, Atlanta Falcons owner critical...   \n",
      "\n",
      "                                   generated_summary  \n",
      "0  the young actor says he has no plans to fritte...  \n",
      "1  inmates with most severe mental illnesses are ...  \n",
      "2  survivor: \"i probably had a 30-, 35-foot free ...  \n",
      "3  the polyps were removed and sent to the nation...  \n",
      "4  new: \"your admitted conduct was not only illeg...  \n"
     ]
    }
   ],
   "source": [
    "df_small = df.head(10).copy()\n",
    "\n",
    "# Generate summaries\n",
    "df_small[\"generated_summary\"] = df_small[\"article\"].apply(summarize)\n",
    "\n",
    "# View results side by side\n",
    "print(df_small[[\"article\", \"highlights\", \"generated_summary\"]].head())\n"
   ]
  },
  {
   "cell_type": "code",
   "execution_count": 38,
   "id": "0528d748-f345-4e80-bf62-b9adceaba2b3",
   "metadata": {},
   "outputs": [
    {
     "name": "stdout",
     "output_type": "stream",
     "text": [
      "LONDON → GPE\n",
      "England → GPE\n",
      "Reuters → ORG\n",
      "Harry Potter → PERSON\n",
      "Daniel Radcliffe → PERSON\n",
      "£20 million → MONEY\n",
      "$41.1 million → MONEY\n",
      "18 → CARDINAL\n",
      "Monday → DATE\n",
      "Daniel Radcliffe → PERSON\n",
      "Harry Potter → PERSON\n",
      "Harry Potter → PERSON\n",
      "the Order of the Phoenix → PERSON\n",
      "18 → DATE\n",
      "Australian → NORP\n",
      "earlier this month → DATE\n",
      "about 10 pounds → QUANTITY\n",
      "18 → DATE\n",
      "Radcliffe → PERSON\n",
      "Hostel: Part II → WORK_OF_ART\n",
      "six → CARDINAL\n",
      "one → CARDINAL\n",
      "UK → GPE\n",
      "Radcliffe → PERSON\n",
      "first → ORDINAL\n",
      "five → CARDINAL\n",
      "last month → DATE\n",
      "Harry Potter → PERSON\n",
      "the Order of the Phoenix → PERSON\n",
      "Atlantic → LOC\n",
      "two → CARDINAL\n",
      "Potter → PERSON\n",
      "Potter → PERSON\n",
      "Londoner → PERSON\n",
      "My Boy Jack → WORK_OF_ART\n",
      "Rudyard Kipling → PERSON\n",
      "later this year → DATE\n",
      "December Boys → WORK_OF_ART\n",
      "Australian → NORP\n",
      "about four → CARDINAL\n",
      "Earlier this year → DATE\n",
      "Peter Shaffer's → PERSON\n",
      "Reuters → ORG\n",
      "2007 → DATE\n",
      "Reuters → ORG\n"
     ]
    }
   ],
   "source": [
    "import spacy\n",
    "\n",
    "# Load English NER model\n",
    "nlp = spacy.load(\"en_core_web_sm\")\n",
    "\n",
    "# NER function\n",
    "def extract_entities(text):\n",
    "    doc = nlp(text)\n",
    "    return [(ent.text, ent.label_) for ent in doc.ents]\n",
    "    \n",
    "text = df_small[\"article\"][0]  # Or any article\n",
    "entities = extract_entities(text)\n",
    "\n",
    "for entity, label in entities:\n",
    "    print(f\"{entity} → {label}\")\n"
   ]
  },
  {
   "cell_type": "code",
   "execution_count": 39,
   "id": "c4e30d64-9c08-4ca0-9b87-497e2fab92f2",
   "metadata": {},
   "outputs": [],
   "source": [
    "df_small[\"named_entities\"] = df_small[\"article\"].apply(extract_entities)"
   ]
  },
  {
   "cell_type": "code",
   "execution_count": 51,
   "id": "de838356-c821-4e4a-b991-64b543aa0525",
   "metadata": {},
   "outputs": [],
   "source": [
    "import pickle\n",
    "\n",
    "# ✅ Save the logistic regression sentiment model\n",
    "with open(\"sentiment_model.pkl\", \"wb\") as f:\n",
    "    pickle.dump(modellog, f)\n",
    "\n",
    "# ✅ Save the TF-IDF vectorizer\n",
    "with open(\"vectorizer.pkl\", \"wb\") as f:\n",
    "    pickle.dump(vect, f)\n"
   ]
  },
  {
   "cell_type": "code",
   "execution_count": null,
   "id": "ff19bd3e-e36f-46d1-ae5e-d2bf126fceac",
   "metadata": {},
   "outputs": [],
   "source": []
  }
 ],
 "metadata": {
  "kernelspec": {
   "display_name": "Python 3 (ipykernel)",
   "language": "python",
   "name": "python3"
  },
  "language_info": {
   "codemirror_mode": {
    "name": "ipython",
    "version": 3
   },
   "file_extension": ".py",
   "mimetype": "text/x-python",
   "name": "python",
   "nbconvert_exporter": "python",
   "pygments_lexer": "ipython3",
   "version": "3.10.13"
  }
 },
 "nbformat": 4,
 "nbformat_minor": 5
}
